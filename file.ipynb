{
 "cells": [
  {
   "cell_type": "code",
   "execution_count": 28,
   "metadata": {},
   "outputs": [],
   "source": [
    "# import os\n",
    "# import timeit\n",
    "\n",
    "\n",
    "# path = \"/Users/Dzhulai Anton/Documents/GitHub/Lab3/File\"\n",
    "\n",
    "# with open(\"File\", \"w\") as f:\n",
    "#     while  os.path.getsize(path) < 52428800:\n",
    "#         f.write(str(12746289462374623846234623487324783268468)+ \"\\n\")\n",
    "\n",
    "\n"
   ]
  },
  {
   "cell_type": "code",
   "execution_count": 29,
   "metadata": {},
   "outputs": [],
   "source": [
    "file = open(\"File\", \"r\")"
   ]
  },
  {
   "cell_type": "code",
   "execution_count": 30,
   "metadata": {},
   "outputs": [],
   "source": [
    "s=0\n",
    "with open(\"File\", \"r\") as file:\n",
    "    for i in file.readlines():\n",
    "        if i.strip().isdigit():\n",
    "            s+=int(i)\n"
   ]
  },
  {
   "cell_type": "code",
   "execution_count": 31,
   "metadata": {},
   "outputs": [],
   "source": [
    "s=0\n",
    "with open(\"File\", \"r\") as file:\n",
    "    for i in file:\n",
    "        if i.strip().isdigit():\n",
    "            s+=int(i)\n"
   ]
  },
  {
   "cell_type": "code",
   "execution_count": 32,
   "metadata": {},
   "outputs": [],
   "source": [
    "s=0\n",
    "with open(\"File\", \"r\") as file:\n",
    "    s = sum(int(i.strip()) for i in file if i.strip().isdigit()) \n"
   ]
  }
 ],
 "metadata": {
  "interpreter": {
   "hash": "1b2f562757813ac81159e4856c1f567e16ac4d66c9208090baf5b59ee8b702bb"
  },
  "kernelspec": {
   "display_name": "Python 3.9.7 64-bit",
   "language": "python",
   "name": "python3"
  },
  "language_info": {
   "codemirror_mode": {
    "name": "ipython",
    "version": 3
   },
   "file_extension": ".py",
   "mimetype": "text/x-python",
   "name": "python",
   "nbconvert_exporter": "python",
   "pygments_lexer": "ipython3",
   "version": "3.9.7"
  },
  "orig_nbformat": 4
 },
 "nbformat": 4,
 "nbformat_minor": 2
}
